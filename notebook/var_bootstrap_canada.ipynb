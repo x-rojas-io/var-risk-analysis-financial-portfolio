{
 "cells": [
  {
   "cell_type": "markdown",
   "id": "16e78f0b",
   "metadata": {},
   "source": [
    "# Bootstrap Confidence Intervals for VaR — Canadian Markets"
   ]
  }
 ],
 "metadata": {
  "language_info": {
   "name": "python"
  }
 },
 "nbformat": 4,
 "nbformat_minor": 5
}
