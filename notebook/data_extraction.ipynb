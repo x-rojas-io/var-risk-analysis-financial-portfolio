{
 "cells": [
  {
   "cell_type": "markdown",
   "id": "16e78f0b",
   "metadata": {},
   "source": [
    "# Bootstrap Confidence Intervals for VaR — Canadian Markets"
   ]
  },
  {
   "cell_type": "code",
   "execution_count": 1,
   "id": "d461037e",
   "metadata": {},
   "outputs": [],
   "source": [
    "# Import libraries\n",
    "import yfinance as yf\n",
    "import pandas as pd\n",
    "import numpy as np\n",
    "import matplotlib.pyplot as plt\n",
    "import seaborn as sns\n",
    "from scipy import stats\n",
    "from scipy.stats import chi2\n",
    "import warnings\n",
    "warnings.filterwarnings(\"ignore\")\n",
    "\n",
    "# Set plot style\n",
    "plt.style.use('seaborn-v0_8')\n",
    "sns.set_palette(\"husl\")"
   ]
  },
  {
   "cell_type": "markdown",
   "id": "d02e5fbd",
   "metadata": {},
   "source": [
    "#### Let’s pick 5 major TSX stocks:\n",
    "\n",
    "| Ticker | Company                        | Sector      |\n",
    "|--------|--------------------------------|-------------|\n",
    "| RY.TO  | Royal Bank of Canada           | Financial   |\n",
    "| ENB.TO | Enbridge                       | Energy      |\n",
    "| BNS.TO | Bank of Nova Scotia            | Financial   |\n",
    "| CP.TO  | Canadian Pacific Kansas City   | Industrials |\n",
    "| BCE.TO | BCE Inc.                       | Telecom     |"
   ]
  },
  {
   "cell_type": "code",
   "execution_count": 14,
   "id": "c258b8e7",
   "metadata": {},
   "outputs": [
    {
     "name": "stdout",
     "output_type": "stream",
     "text": [
      "✅ Directory './data' is ready.\n"
     ]
    }
   ],
   "source": [
    "import os\n",
    "\n",
    "# Create the 'data' directory if it doesn't exist\n",
    "os.makedirs(\"./data\", exist_ok=True)\n",
    "\n",
    "print(\"✅ Directory './data' is ready.\")"
   ]
  },
  {
   "cell_type": "code",
   "execution_count": 15,
   "id": "1b6cf8da",
   "metadata": {},
   "outputs": [
    {
     "name": "stderr",
     "output_type": "stream",
     "text": [
      "[*********************100%***********************]  5 of 5 completed"
     ]
    },
    {
     "name": "stdout",
     "output_type": "stream",
     "text": [
      "Downloading data with auto-adjusted prices...\n",
      "✅ Data ready! Shape: (1003, 5)\n",
      "📅 Period: 2020-01-02 to 2023-12-29\n",
      "📊 Tickers: ['BCE.TO', 'BNS.TO', 'CP.TO', 'ENB.TO', 'RY.TO']\n"
     ]
    },
    {
     "name": "stderr",
     "output_type": "stream",
     "text": [
      "\n"
     ]
    }
   ],
   "source": [
    "# Step 1: Define tickers\n",
    "tickers = [\"RY.TO\", \"ENB.TO\", \"BNS.TO\", \"CP.TO\", \"BCE.TO\"]\n",
    "\n",
    "# Step 2: Download with auto_adjust=True → makes 'Close' adjusted\n",
    "print(\"Downloading data with auto-adjusted prices...\")\n",
    "data_full = yf.download(tickers, start=\"2020-01-01\", end=\"2023-12-31\", auto_adjust=True)\n",
    "\n",
    "# Step 3: Extract the adjusted 'Close' (now just 'Close')\n",
    "data = data_full['Close']\n",
    "\n",
    "# Step 4: Clean\n",
    "data.dropna(inplace=True)\n",
    "\n",
    "# Step 5: Confirm\n",
    "print(f\"✅ Data ready! Shape: {data.shape}\")\n",
    "print(f\"📅 Period: {data.index[0].date()} to {data.index[-1].date()}\")\n",
    "print(f\"📊 Tickers: {list(data.columns)}\")\n",
    "\n",
    "# Optional: Save\n",
    "\n",
    "data.to_csv(\"./data/tsx_adj_close.csv\")"
   ]
  }
 ],
 "metadata": {
  "kernelspec": {
   "display_name": ".venv",
   "language": "python",
   "name": "python3"
  },
  "language_info": {
   "codemirror_mode": {
    "name": "ipython",
    "version": 3
   },
   "file_extension": ".py",
   "mimetype": "text/x-python",
   "name": "python",
   "nbconvert_exporter": "python",
   "pygments_lexer": "ipython3",
   "version": "3.13.2"
  }
 },
 "nbformat": 4,
 "nbformat_minor": 5
}
